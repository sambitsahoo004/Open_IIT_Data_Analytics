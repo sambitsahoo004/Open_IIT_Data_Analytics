{
 "cells": [
  {
   "cell_type": "markdown",
   "metadata": {},
   "source": [
    "## <p style=\"text-align: center;\"> OPEN-IIT </p>\n",
    "### <p style=\"text-align: center;\"> DATA ANALYTICS </p>"
   ]
  },
  {
   "cell_type": "markdown",
   "metadata": {},
   "source": [
    "In this challenge, we aim to create a predictive solution that leverages historical and operational data to enhance decision-making in airline operations. The primary objectives are twofold: firstly, to develop a model that accurately forecasts flight delays based on historical data, helping airlines proactively allocate resources; and secondly, to design a system that can reschedule flights dynamically to minimize overall delays across routes, optimizing the utilization of fleet and crew.\n"
   ]
  },
  {
   "cell_type": "code",
   "execution_count": null,
   "metadata": {},
   "outputs": [],
   "source": [
    "!pip install numpy\n",
    "!pip install pandas\n",
    "!pip install matplotlib\n",
    "!pip install seaborn \n",
    "!pip install tensorflow\n",
    "!pip install kagglehub\n",
    "!pip install scikit-learn\n",
    "!pip install xgboost\n",
    "!pip install lightgbm\n",
    "!pip install catboost\n",
    "!pip install optuna\n",
    "!pip install scipy"
   ]
  },
  {
   "cell_type": "code",
   "execution_count": 11,
   "metadata": {
    "id": "E6b9nBJEEOV_"
   },
   "outputs": [],
   "source": [
    "import pandas as pd\n",
    "import numpy as np\n",
    "import kagglehub\n",
    "import random\n",
    "import tensorflow as tf\n",
    "import os\n",
    "import matplotlib.pyplot as plt\n",
    "import seaborn as sb\n",
    "from IPython.display import display, HTML\n",
    "from sklearn.model_selection import train_test_split\n",
    "from sklearn.metrics import mean_squared_error\n",
    "import plotly.express as px"
   ]
  },
  {
   "cell_type": "markdown",
   "metadata": {},
   "source": [
    "#### DATASET"
   ]
  },
  {
   "cell_type": "code",
   "execution_count": null,
   "metadata": {
    "colab": {
     "base_uri": "https://localhost:8080/",
     "height": 1000
    },
    "id": "kDbcsDVHEVrw",
    "outputId": "5adbfc43-c23b-48fb-bd79-323b3844868f"
   },
   "outputs": [],
   "source": [
    "path = kagglehub.dataset_download(\"patrickzel/flight-delay-and-cancellation-dataset-2019-2023\")\n",
    "file_path = os.path.join(path, \"flights_sample_3m.csv\")\n",
    "data = pd.read_csv(file_path)\n",
    "pd.set_option('display.max_columns', None)\n",
    "display(data)"
   ]
  },
  {
   "cell_type": "code",
   "execution_count": null,
   "metadata": {},
   "outputs": [],
   "source": [
    "#data description\n",
    "with open(f'{path}\\dictionary.html', 'r') as file:\n",
    "    html_content = file.read()\n",
    "display(HTML(html_content))"
   ]
  },
  {
   "cell_type": "markdown",
   "metadata": {
    "id": "tmXzYd3cAxRw"
   },
   "source": [
    "Convert FL_DATE to \"datetime\" recognized by pandas"
   ]
  },
  {
   "cell_type": "code",
   "execution_count": 4,
   "metadata": {
    "id": "hXEe4Eo0AvWD"
   },
   "outputs": [],
   "source": [
    "data['FL_DATE'] = pd.to_datetime(data['FL_DATE'], format='%Y-%m-%d').copy()"
   ]
  },
  {
   "cell_type": "code",
   "execution_count": null,
   "metadata": {
    "colab": {
     "base_uri": "https://localhost:8080/"
    },
    "id": "fkOhIosGA3VA",
    "outputId": "6e60d1ac-0621-4771-9fd6-4811cd45f037"
   },
   "outputs": [],
   "source": [
    "data.describe()"
   ]
  },
  {
   "cell_type": "markdown",
   "metadata": {
    "id": "EklIfjTsA6ph"
   },
   "source": [
    "Toggle assertions on or off"
   ]
  },
  {
   "cell_type": "code",
   "execution_count": 12,
   "metadata": {
    "id": "1PD-lbX-Azjh"
   },
   "outputs": [],
   "source": [
    "TEST: bool = True"
   ]
  },
  {
   "cell_type": "markdown",
   "metadata": {
    "id": "0KhdF2KUA9_k"
   },
   "source": [
    "Dropping cancelled and diverted flights, they are outside of our scope, we only want delayed flights"
   ]
  },
  {
   "cell_type": "code",
   "execution_count": 13,
   "metadata": {
    "id": "xJm_iRUbA8wp"
   },
   "outputs": [],
   "source": [
    "num_cancelled_or_diverted = len(data[(data['CANCELLED'] == 1) | (data['DIVERTED'] == 1)])\n",
    "cancelled_or_diverted_counts = data[(data['CANCELLED'] == 1) | (data['DIVERTED'] == 1)][\"FL_DATE\"].dt.strftime('%Y-%m').value_counts().sort_index()\n",
    "data = data[(data['CANCELLED'] != 1) & (data['DIVERTED'] != 1)]"
   ]
  },
  {
   "cell_type": "markdown",
   "metadata": {
    "id": "ysBxI8uKBOEQ"
   },
   "source": [
    "Attempt to drop duplicates (we found out there aren't any)"
   ]
  },
  {
   "cell_type": "code",
   "execution_count": 15,
   "metadata": {
    "id": "cGUeGw_WBMQN"
   },
   "outputs": [],
   "source": [
    "data_len_with_duplicates = len(data)\n",
    "data.drop_duplicates(inplace=True)\n",
    "if TEST:\n",
    "  assert len(data) == data_len_with_duplicates  # no duplicates"
   ]
  },
  {
   "cell_type": "markdown",
   "metadata": {
    "id": "NOp7GPysBgTH"
   },
   "source": [
    "Visualizing the presence of delay components"
   ]
  },
  {
   "cell_type": "code",
   "execution_count": 16,
   "metadata": {
    "id": "IQ5m2pcYBWil"
   },
   "outputs": [],
   "source": [
    "def split_by_components(df: pd.DataFrame):\n",
    "  # Finding: if there is one component, it has all components\n",
    "  isna_mask = df[['DELAY_DUE_CARRIER', 'DELAY_DUE_WEATHER',\n",
    "                  'DELAY_DUE_NAS', 'DELAY_DUE_SECURITY',\n",
    "                  'DELAY_DUE_LATE_AIRCRAFT']].isna().any(axis=1)\n",
    "\n",
    "  delay_components_df = df[~isna_mask]\n",
    "  no_delay_components_df = df[isna_mask]\n",
    "\n",
    "  return delay_components_df, no_delay_components_df"
   ]
  },
  {
   "cell_type": "code",
   "execution_count": null,
   "metadata": {
    "colab": {
     "base_uri": "https://localhost:8080/",
     "height": 617
    },
    "id": "CRy_EW7ZBZUN",
    "outputId": "7a40fc39-06a5-412f-e7d2-97b7bf676c3f"
   },
   "outputs": [],
   "source": [
    "delay_components_df, no_delay_components_df = split_by_components(data)\n",
    "\n",
    "ratio_components = len(delay_components_df) / len(data)\n",
    "\n",
    "fig, ax = plt.subplots()\n",
    "labels = [\"Has delay components\", \"Missing delay components\", \"Cancelled or Diverted\"]\n",
    "sizes = [len(delay_components_df), len(no_delay_components_df), num_cancelled_or_diverted]\n",
    "ax.pie(sizes, labels=labels, autopct='%1.1f%%', startangle=90)\n",
    "ax.axis('equal') "
   ]
  },
  {
   "cell_type": "markdown",
   "metadata": {
    "id": "Tm5QJEsEBjzP"
   },
   "source": [
    "About 79.3% data does not contain any reason for the delay and hence we can't use that"
   ]
  },
  {
   "cell_type": "code",
   "execution_count": null,
   "metadata": {
    "colab": {
     "base_uri": "https://localhost:8080/",
     "height": 542
    },
    "id": "vzK2uI-hBic5",
    "outputId": "64c0ae1c-598e-44ca-9a61-da8192fb4b0f"
   },
   "outputs": [],
   "source": [
    "components_counts = delay_components_df[\"FL_DATE\"].dt.strftime('%Y-%m').value_counts().sort_index()\n",
    "no_components_counts = no_delay_components_df[\"FL_DATE\"].dt.strftime('%Y-%m').value_counts().sort_index()\n",
    "all_dates = pd.concat([components_counts, no_components_counts, cancelled_or_diverted_counts], axis=1, keys=['Components', 'No Components', \"Cancelled or Diverted\"])\n",
    "all_dates.reset_index(inplace=True)\n",
    "all_dates.columns = ['Date', 'Has Delay Components', 'Missing Delay Components', \"Cancelled or Diverted\"]\n",
    "\n",
    "fig, ax = plt.subplots(figsize=(15, 8))\n",
    "all_dates.set_index('Date').plot(kind='bar', stacked=True, ax=ax)\n",
    "ax.set_xlabel('Unique Dates')\n",
    "ax.set_ylabel('Count')\n",
    "ax.set_title('Flight Delay Components Over Time')\n",
    "plt.xticks(rotation=90)\n",
    "plt.show()"
   ]
  },
  {
   "cell_type": "markdown",
   "metadata": {
    "id": "KZGR8UpkBsMK"
   },
   "source": [
    "clearly shows the delay status over the unique months"
   ]
  },
  {
   "cell_type": "markdown",
   "metadata": {
    "id": "DubO41uVBy8p"
   },
   "source": [
    "Ensure that delay components always sum to equal arrival delay"
   ]
  },
  {
   "cell_type": "code",
   "execution_count": 19,
   "metadata": {
    "id": "mQfIUkALBr3P"
   },
   "outputs": [],
   "source": [
    "if TEST:\n",
    "  def check_delay_components_sum_to_arr_delay(row) -> bool:\n",
    "      components_delay = row[['DELAY_DUE_CARRIER', 'DELAY_DUE_WEATHER',\n",
    "                            'DELAY_DUE_NAS', 'DELAY_DUE_SECURITY',\n",
    "                            'DELAY_DUE_LATE_AIRCRAFT']].sum()\n",
    "      return components_delay == row['ARR_DELAY']\n",
    "\n",
    "  assert delay_components_df.apply(check_delay_components_sum_to_arr_delay, axis=1).all()"
   ]
  },
  {
   "cell_type": "markdown",
   "metadata": {
    "id": "AMDUt39oB24D"
   },
   "source": [
    "Set data to just the delay components to simplify referencing below"
   ]
  },
  {
   "cell_type": "code",
   "execution_count": 20,
   "metadata": {
    "id": "y5uzXRzuB1Bq"
   },
   "outputs": [],
   "source": [
    "data = delay_components_df.copy()"
   ]
  },
  {
   "cell_type": "markdown",
   "metadata": {
    "id": "eTwrvlvvB8vJ"
   },
   "source": [
    "Removing outliers using IQR method on the overall arrival delay"
   ]
  },
  {
   "cell_type": "code",
   "execution_count": null,
   "metadata": {
    "colab": {
     "base_uri": "https://localhost:8080/",
     "height": 1000
    },
    "id": "F7J66KAFB9CA",
    "outputId": "aa9343a4-725b-431d-9c45-137c91d7bfb9"
   },
   "outputs": [],
   "source": [
    "# Boxplot before removing outliers\n",
    "plt.figure(figsize=(8, 6))\n",
    "plt.boxplot(data['ARR_DELAY'])\n",
    "plt.title('Box Plot of ARR_DELAY Column')\n",
    "plt.xlabel('ARR_DELAY')\n",
    "plt.show()\n",
    "\n",
    "# Calculate Q1, Q3, IQR\n",
    "Q1 = data['ARR_DELAY'].quantile(0.25)\n",
    "Q3 = data['ARR_DELAY'].quantile(0.75)\n",
    "IQR = Q3 - Q1\n",
    "\n",
    "# Define the lower and upper bounds\n",
    "lower_bound = Q1 - 1.5 * IQR\n",
    "upper_bound = Q3 + 1.5 * IQR\n",
    "\n",
    "# Remove outliers\n",
    "data_no_outliers = data[(data['ARR_DELAY'] >= lower_bound) & (data['ARR_DELAY'] <= upper_bound)]\n",
    "\n",
    "print(\"Summary Statistics after Removing Outliers:\")\n",
    "print(data_no_outliers['ARR_DELAY'].describe())\n",
    "print(data[\"ARR_DELAY\"].describe())\n",
    "\n",
    "print((len(data) - len(data_no_outliers)) / len(data))\n",
    "print((len(data) - len(data_no_outliers)))\n",
    "\n",
    "# Box plot after removing outliers\n",
    "plt.figure(figsize=(8, 6))\n",
    "plt.boxplot(data_no_outliers['ARR_DELAY'])\n",
    "plt.title('Box Plot of ARR_DELAY Column')\n",
    "plt.xlabel('ARR_DELAY')\n",
    "plt.ylabel(\"Overall Arrival Delay (mins)\")\n",
    "plt.show()"
   ]
  },
  {
   "cell_type": "markdown",
   "metadata": {
    "id": "03UUQkgJCCH2"
   },
   "source": [
    "Calculating the Pearson Correlation on just the non-categorical attributes, since Pearson Correlation is invalid for categorical attributes"
   ]
  },
  {
   "cell_type": "code",
   "execution_count": 22,
   "metadata": {
    "colab": {
     "base_uri": "https://localhost:8080/"
    },
    "id": "98688h0xCAT1",
    "outputId": "a57c8547-a53f-43ec-867a-15feba644451"
   },
   "outputs": [
    {
     "name": "stdout",
     "output_type": "stream",
     "text": [
      "CRS_DEP_TIME: 0.070351400136903\n",
      "TAXI_OUT: 0.05410605127602412\n",
      "CRS_ARR_TIME: 0.05002847040250279\n",
      "TAXI_IN: 0.02354168085730836\n",
      "CRS_ELAPSED_TIME: -0.012206498859525686\n",
      "DISTANCE: -0.022838335188191387\n"
     ]
    }
   ],
   "source": [
    "from scipy.stats import pearsonr\n",
    "\n",
    "def calculate_pearson_score(df: pd.DataFrame, col: str, y) -> float:\n",
    "  \"\"\"\n",
    "  Calculates the Pearson correlation coefficient between two columns in a DataFrame.\n",
    "\n",
    "  Args:\n",
    "    df: DataFrame.\n",
    "    col: The name of the first column.\n",
    "    y: The name of the second column.\n",
    "\n",
    "  Returns:\n",
    "    Pearson correlation coefficient.\n",
    "  \"\"\"\n",
    "  try:\n",
    "    corr,_ = pearsonr(df[col].values, y.values)\n",
    "    return corr\n",
    "  except:\n",
    "    return 0\n",
    "\n",
    "# Calculate the Pearson correlation coefficient for each column w/ ARR_DELAY\n",
    "pearson_scores = {}\n",
    "cols=['CRS_DEP_TIME', 'TAXI_OUT', 'TAXI_IN', 'CRS_ARR_TIME', 'CRS_ELAPSED_TIME',\n",
    "      'DISTANCE']\n",
    "for col in cols:\n",
    "    pearson_scores[col] = calculate_pearson_score(data_no_outliers, col, data_no_outliers[\"ARR_DELAY\"])\n",
    "\n",
    "# Sort the Pearson correlation coefficients\n",
    "sorted_pearson_scores = sorted(pearson_scores.items(), key=lambda x: x[1], reverse=True)\n",
    "\n",
    "for col, score in sorted_pearson_scores:\n",
    "    print(f\"{col}: {score}\")\n",
    "\n",
    "# NOTE: ELAPSED TIME IS REDUNDANT"
   ]
  },
  {
   "cell_type": "code",
   "execution_count": 23,
   "metadata": {
    "colab": {
     "base_uri": "https://localhost:8080/"
    },
    "id": "x9CCXIHVCFKP",
    "outputId": "841de49a-36cd-429d-c119-11084fee1296"
   },
   "outputs": [
    {
     "name": "stdout",
     "output_type": "stream",
     "text": [
      "Categorical columns ranked by their correlation with:\n",
      "FL_DATE: 11695.475421633384\n",
      "FL_NUMBER: 8809.136394469862\n",
      "DOT_CODE: 4954.9899978141175\n",
      "AIRLINE: 4954.989997813885\n",
      "AIRLINE_DOT: 4954.989997813885\n",
      "AIRLINE_CODE: 4954.989997813885\n",
      "ORIGIN: 4605.392992471976\n",
      "ORIGIN_CITY: 4345.318673077497\n",
      "DEST: 3988.8397909004916\n",
      "DEST_CITY: 3744.0359485488907\n"
     ]
    }
   ],
   "source": [
    "from scipy.stats import kruskal\n",
    "\n",
    "cols = ['FL_DATE', 'AIRLINE', 'AIRLINE_DOT', 'AIRLINE_CODE', 'DOT_CODE',\n",
    "        'FL_NUMBER', 'ORIGIN', 'ORIGIN_CITY', 'DEST', 'DEST_CITY']\n",
    "\n",
    "# Calculate the Kruskal-Wallis H statistic for each categorical variable\n",
    "h_values = {}\n",
    "for col in cols:\n",
    "    h, p_value = kruskal(*[group['ARR_DELAY'] for name, group in data_no_outliers.groupby(col)])\n",
    "    h_values[col] = h\n",
    "\n",
    "# Sort the columns by their H values\n",
    "sorted_cols = sorted(h_values, key=h_values.get, reverse=True)\n",
    "\n",
    "print(\"Categorical columns ranked by their correlation with:\")\n",
    "for col in sorted_cols:\n",
    "    print(f\"{col}: {h_values[col]}\")\n",
    "\n",
    "# drop AIRLINE_DOT, AIRLINE_CODE, DOT_CODE bc redundant w/ AIRLINE\n",
    "# drop ORIGIN_CITY, DEST_CITY bc redundant (basically) w/ ORIGIN, DEST"
   ]
  },
  {
   "cell_type": "code",
   "execution_count": 26,
   "metadata": {
    "id": "7-QXdR4qCGvG"
   },
   "outputs": [],
   "source": [
    "X_df = data_no_outliers[\n",
    "    [\n",
    "        \"FL_DATE\",  # yyymmdd of flight (ordinal, discrete),\n",
    "        \"FL_NUMBER\",\n",
    "        \"AIRLINE\",  # name of airline (nominal, discrete)\n",
    "        # Ignore AIRLINE_CODE because it is redundant\n",
    "        \"ORIGIN\",  # origin airport code (nomincal, discrete)\n",
    "        # Ignore ORIGIN_CITY because it is redundant\n",
    "        \"DEST\",  # destination airport code (nomincal, discrete)\n",
    "        # Ignore DEST_CITY because it is redundant\n",
    "        \"CRS_DEP_TIME\",  # hhmm planned departure time (ordinal, discrete)\n",
    "        \"CRS_ARR_TIME\",  # hhmm planned arrival time (ordinal, discrete)\n",
    "        # Ignore CRS_ELAPSED_TIME because it is redundant since we have CRS_DEP_TIME and CRS_ARR_TIME\n",
    "        \"DISTANCE\",  # miles between airports (ratio, discrete)\n",
    "        \"TAXI_IN\",\n",
    "        \"TAXI_OUT\"\n",
    "    ]\n",
    "]\n",
    "\n",
    "Y_df = data_no_outliers[\n",
    "    [\n",
    "        # \"CANCELLATION_CODE\",  # reason for cancellation, NA if not cancelled (nominal, discrete)\n",
    "        # Ignore CANCELLED because it is redundant, CANCELLATION_CODE provides more information\n",
    "        # \"DIVERTED\",  # 1 if diverted, 0 if not (ordinal, discrete) NOTE: NOT SURE IF WE WANT TO KEEP\n",
    "        # \"AIR_TIME\",  # Flight time, minutes (ratio, discrete)\n",
    "        \"DELAY_DUE_CARRIER\",  # delay due to technical difficulties / damage / carrier efficiency (ratio, discrete)\n",
    "        # Hypothesis: AIRLINE, ORIGIN, DEST may inform DELAY_DUE_CARRIER\n",
    "        \"DELAY_DUE_WEATHER\",  # delay due to weather (ratio, discrete)\n",
    "        # Hypothesis: FL_DATE, ORIGIN, DEST may inform DELAY_DUE_WEATHER\n",
    "        \"DELAY_DUE_SECURITY\",  # delay due to security (ratio, discrete)\n",
    "        # Hypothesis: FL_DATE, ORIGIN, CRS_DEP_TIME, DISTANCE may inform DELAY_DUE_SECURITY,\n",
    "        \"DELAY_DUE_NAS\",  # not sure how this will do due to lacking info in features\n",
    "        \"DELAY_DUE_LATE_AIRCRAFT\"  # delay due to late aircraft (ratio, discrete)\n",
    "        # Hypothesis: AIRLINE, CRS_DEP_TIME may inform DELAY_DUE_LATE_AIRCRAFT\n",
    "    ]\n",
    "]\n",
    "\n",
    "arr_only_y_df = data_no_outliers[\"ARR_DELAY\"]\n",
    "\n",
    "# AIRLINE_CODE, DOT_CODE, FL_NUMBER are ignored because they are unique identifiers\n",
    "# TAXI_OUT, WHEELS_OFF, WHEELS_ON, TAXI_IN are ignored because they seem irrelevant NOTE: MAY WANT TO LOOK INTO THIS\n",
    "# DEP_TIME, DEP_DELAY, ARR_TIME, ARR_DELAY, ELAPSED_TIME are ignored because the individual delay contributions factor into them\n",
    "\n",
    "# WARNING: DELAY_DUE_NAS might not have sufficient info to predict this. It is National Air System Delay, minutes."
   ]
  },
  {
   "cell_type": "markdown",
   "metadata": {
    "id": "AL2xJcIICMZe"
   },
   "source": [
    "Check if there are any NA values in X_df. There are none"
   ]
  },
  {
   "cell_type": "code",
   "execution_count": 27,
   "metadata": {
    "id": "Zb_ypqYKCK6W"
   },
   "outputs": [],
   "source": [
    "df = data.copy()"
   ]
  },
  {
   "cell_type": "code",
   "execution_count": null,
   "metadata": {
    "colab": {
     "base_uri": "https://localhost:8080/"
    },
    "id": "FP_N00A6COhp",
    "outputId": "32294a8d-e4ac-483f-ac39-66630168cd55"
   },
   "outputs": [],
   "source": [
    "# Look for any NA values in X\n",
    "if TEST:\n",
    "  X_df.replace('', np.nan, inplace=True)\n",
    "  pd.isna(X_df).sum().sum() == 0"
   ]
  },
  {
   "cell_type": "markdown",
   "metadata": {
    "id": "521-gWfTCSHT"
   },
   "source": [
    "Label encoding the airline and airport. ORIGIN and DEST should be encoded together to preserve the relationship between outbound and inbound same airports."
   ]
  },
  {
   "cell_type": "code",
   "execution_count": null,
   "metadata": {
    "colab": {
     "base_uri": "https://localhost:8080/",
     "height": 637
    },
    "id": "aoWIv8-cCQsu",
    "outputId": "9c06982a-d0e8-497f-a1d3-4f42dab1f093"
   },
   "outputs": [],
   "source": [
    "from sklearn.preprocessing import LabelEncoder, MinMaxScaler, StandardScaler\n",
    "import pandas as pd\n",
    "\n",
    "# Assign integer labels to airline\n",
    "airline_encoder = LabelEncoder()\n",
    "X_df[\"AIRLINE\"] = airline_encoder.fit_transform(X_df[\"AIRLINE\"])\n",
    "\n",
    "# Assign integer labels to airport code\n",
    "airport_encoder = LabelEncoder()\n",
    "# Use pd.concat to combine the 'ORIGIN' and 'DEST' columns\n",
    "airport_encoder.fit(pd.concat([X_df[\"ORIGIN\"], X_df[\"DEST\"]]))\n",
    "X_df[\"ORIGIN\"] = airport_encoder.transform(X_df[\"ORIGIN\"])\n",
    "X_df[\"DEST\"] = airport_encoder.transform(X_df[\"DEST\"])\n",
    "# assert X_df.loc[1, \"ORIGIN\"] == X_df.loc[3, \"ORIGIN\"] == X_df.loc[2, \"DEST\"]  # all MSP\n",
    "\n",
    "X_df.head()"
   ]
  },
  {
   "cell_type": "markdown",
   "metadata": {
    "id": "PAyQTe5ICdhC"
   },
   "source": [
    "Converting hhmm time format to minutes past midnight, this way it'll help us run our models easily, instead of going to a datetime format and then again calculating the time difference in minutes/hours."
   ]
  },
  {
   "cell_type": "code",
   "execution_count": null,
   "metadata": {
    "colab": {
     "base_uri": "https://localhost:8080/",
     "height": 780
    },
    "id": "DB0CgLa5Catr",
    "outputId": "410751f6-4a41-4c54-83f5-696ccf008e07"
   },
   "outputs": [],
   "source": [
    "def convert_hhmm_to_mins(hhmm_list):\n",
    "  hours = []\n",
    "  mins = []\n",
    "\n",
    "  # Look at str length to determine number of hours and mins\n",
    "  for s in hhmm_list:\n",
    "    if len(s) == 1:\n",
    "      hours.append(0)\n",
    "      mins.append(int(s))\n",
    "    elif len(s) == 2:\n",
    "      hours.append(0)\n",
    "      mins.append(int(s))\n",
    "    elif len(s) == 3:\n",
    "      hours.append(int(s[0]))\n",
    "      mins.append(int(s[1:]))\n",
    "    elif len(s) == 4:\n",
    "        hours.append(int(s[:2]))\n",
    "        mins.append(int(s[2:]))\n",
    "    else:\n",
    "      raise ValueError(s)\n",
    "\n",
    "  # Calculate total minutes\n",
    "  return np.array(hours) * 60 + np.array(mins)\n",
    "\n",
    "# Convert hhmm times to minutes\n",
    "X_df[\"CRS_DEP_TIME\"] = X_df[\"CRS_DEP_TIME\"].astype(str)\n",
    "X_df[\"CRS_DEP_TIME\"] = convert_hhmm_to_mins(X_df[\"CRS_DEP_TIME\"])\n",
    "# assert X_df[\"CRS_DEP_TIME\"][:5].tolist() == [715, 1280, 594, 969, 1120]\n",
    "\n",
    "X_df[\"CRS_ARR_TIME\"] = X_df[\"CRS_ARR_TIME\"].astype(str)\n",
    "X_df[\"CRS_ARR_TIME\"] = convert_hhmm_to_mins(X_df[\"CRS_ARR_TIME\"])\n",
    "# assert X_df[\"CRS_ARR_TIME\"][:5].tolist() == [901, 1395, 772, 1109, 1241]\n",
    "\n",
    "X_df.head()"
   ]
  },
  {
   "cell_type": "markdown",
   "metadata": {
    "id": "4llQTkFiChR6"
   },
   "source": [
    "Converting the distance to an integer in case it is not. Data is recorded as discrete integer values."
   ]
  },
  {
   "cell_type": "code",
   "execution_count": null,
   "metadata": {
    "colab": {
     "base_uri": "https://localhost:8080/",
     "height": 349
    },
    "id": "AANCAklJCf_j",
    "outputId": "354fb64b-3fa4-442b-82e1-ca89e327449c"
   },
   "outputs": [],
   "source": [
    "# Convert distance to int, its already an int basically\n",
    "X_df[\"DISTANCE\"] = df[\"DISTANCE\"].astype(int)\n",
    "X_df.head()"
   ]
  },
  {
   "cell_type": "markdown",
   "metadata": {
    "id": "zTKJ7PkYCw6x"
   },
   "source": [
    "Breaking datetime into separate YEAR, MONTH, DAY attributes"
   ]
  },
  {
   "cell_type": "code",
   "execution_count": null,
   "metadata": {
    "colab": {
     "base_uri": "https://localhost:8080/",
     "height": 906
    },
    "id": "gItcRMabCvib",
    "outputId": "2be20dae-a2e1-4362-e045-d28bea5dde83"
   },
   "outputs": [],
   "source": [
    "# Convert FL_DATE column to datetime\n",
    "X_df['FL_DATE'] = pd.to_datetime(X_df['FL_DATE'])\n",
    "\n",
    "X_df['YEAR'] = X_df['FL_DATE'].dt.year\n",
    "X_df['MONTH'] = X_df['FL_DATE'].dt.month\n",
    "X_df['DAY'] = X_df['FL_DATE'].dt.day\n",
    "\n",
    "# Drop the original column\n",
    "X_df.drop(columns=['FL_DATE'], inplace=True)\n",
    "\n",
    "if TEST:\n",
    "    assert X_df[\"MONTH\"].min() == 1\n",
    "    assert X_df[\"MONTH\"].max() == 12\n",
    "    assert X_df[\"DAY\"].min() == 1\n",
    "    assert X_df[\"DAY\"].max() == 31\n",
    "\n",
    "X_df.head()"
   ]
  },
  {
   "cell_type": "markdown",
   "metadata": {
    "id": "5R-o_ecVC1PL"
   },
   "source": [
    "Dropping off the"
   ]
  },
  {
   "cell_type": "code",
   "execution_count": null,
   "metadata": {
    "colab": {
     "base_uri": "https://localhost:8080/",
     "height": 549
    },
    "id": "ZdjmweqrCzCk",
    "outputId": "c505fa79-e6c1-407b-ed6e-cfcc6cdd8cfb"
   },
   "outputs": [],
   "source": [
    "X_df.drop(columns=[\"FL_NUMBER\"], inplace=True)\n",
    "X_df"
   ]
  },
  {
   "cell_type": "markdown",
   "metadata": {
    "id": "WEC1hluxFzUh"
   },
   "source": [
    "Converting Taxi in and taxi out to int"
   ]
  },
  {
   "cell_type": "code",
   "execution_count": null,
   "metadata": {
    "colab": {
     "base_uri": "https://localhost:8080/"
    },
    "id": "-HmaBZ62Fx0R",
    "outputId": "a3af87ec-7e2d-4256-a810-031573d985ae"
   },
   "outputs": [],
   "source": [
    "X_df[\"TAXI_IN\"] = X_df[\"TAXI_IN\"].astype(int)\n",
    "X_df[\"TAXI_OUT\"] = X_df[\"TAXI_OUT\"].astype(int)"
   ]
  },
  {
   "cell_type": "markdown",
   "metadata": {
    "id": "bd8zEof-F55r"
   },
   "source": [
    "Looking for any NA values in Y. We found that there are not any"
   ]
  },
  {
   "cell_type": "code",
   "execution_count": null,
   "metadata": {
    "colab": {
     "base_uri": "https://localhost:8080/"
    },
    "id": "ngvYRWssF2nN",
    "outputId": "aef21ead-b5ae-4812-c9ee-f3465b49f063"
   },
   "outputs": [],
   "source": [
    "if TEST:\n",
    "  Y_df.replace('', np.nan, inplace=True)\n",
    "  assert pd.isna(Y_df).sum().sum() == 0"
   ]
  },
  {
   "cell_type": "markdown",
   "metadata": {
    "id": "WoVyTqsUGIr6"
   },
   "source": [
    "Converting Y to int (all values are already integers in the data). Ensure length matches length of X_df."
   ]
  },
  {
   "cell_type": "code",
   "execution_count": 37,
   "metadata": {
    "id": "i13PYkqRGGsU"
   },
   "outputs": [],
   "source": [
    "Y_df = Y_df.astype(int)\n",
    "if TEST:\n",
    "  assert len(X_df) == len(Y_df)"
   ]
  },
  {
   "cell_type": "code",
   "execution_count": 38,
   "metadata": {
    "id": "Z9CTcHKgGLMi"
   },
   "outputs": [],
   "source": [
    "arr_only_y_df = arr_only_y_df.astype(int)"
   ]
  },
  {
   "cell_type": "markdown",
   "metadata": {
    "id": "qEqBVHxVGNP7"
   },
   "source": [
    "Splitting into train and test using 75/25 split and random_state"
   ]
  },
  {
   "cell_type": "code",
   "execution_count": 39,
   "metadata": {
    "id": "c0r6hLGUGMSq"
   },
   "outputs": [],
   "source": [
    "X_train, X_test, Y_train, Y_test, y_arr_only_train, y_arr_only_test = train_test_split(X_df, Y_df, arr_only_y_df, random_state=42, test_size=0.25)"
   ]
  },
  {
   "cell_type": "markdown",
   "metadata": {
    "id": "1C-0O_EaGQ6E"
   },
   "source": [
    "Scaling numeric columns using Z-normalization. Fitting to X_train, applying to X_test to prevent data leakage."
   ]
  },
  {
   "cell_type": "code",
   "execution_count": null,
   "metadata": {
    "colab": {
     "base_uri": "https://localhost:8080/",
     "height": 206
    },
    "id": "--77qXQ7GP23",
    "outputId": "02957283-3d9e-47fe-c3ef-2ef6d34659cb"
   },
   "outputs": [],
   "source": [
    "numeric_columns = [\"CRS_DEP_TIME\", \"CRS_ARR_TIME\", \"DISTANCE\", \"TAXI_IN\", \"TAXI_OUT\"]\n",
    "categorical_columns = [\"AIRLINE\", \"ORIGIN\", \"DEST\", \"YEAR\", \"MONTH\", \"DAY\"]\n",
    "scaler = StandardScaler()\n",
    "X_train_scale = pd.DataFrame(scaler.fit_transform(X_train[numeric_columns]), columns=numeric_columns, index=X_train.index)\n",
    "X_test_scale = pd.DataFrame(scaler.transform(X_test[numeric_columns]), columns=numeric_columns, index=X_test.index)\n",
    "\n",
    "X_train_scale = pd.concat([X_train[categorical_columns], X_train_scale], axis=1)\n",
    "X_test_scale = pd.concat([X_test[categorical_columns], X_test_scale], axis=1)\n",
    "\n",
    "X_train_scale.head()"
   ]
  },
  {
   "cell_type": "markdown",
   "metadata": {
    "id": "6P8mNikzGYZd"
   },
   "source": [
    "Saving the label-encoded X data to CSV"
   ]
  },
  {
   "cell_type": "code",
   "execution_count": 41,
   "metadata": {
    "id": "_0PZigaJGVXO"
   },
   "outputs": [],
   "source": [
    "X_train_scale.to_csv(\"X_train_label.csv\", index=False)\n",
    "X_test_scale.to_csv(\"X_test_label.csv\", index=False)"
   ]
  },
  {
   "cell_type": "code",
   "execution_count": 55,
   "metadata": {
    "id": "8mmMJAEYIXlP"
   },
   "outputs": [],
   "source": [
    "X_train_scale_cpy = X_train_scale\n",
    "X_test_scale_cpy = X_test_scale"
   ]
  },
  {
   "cell_type": "markdown",
   "metadata": {
    "id": "tjB_OcAaGllA"
   },
   "source": [
    "Saving Y data to CSV"
   ]
  },
  {
   "cell_type": "code",
   "execution_count": 43,
   "metadata": {
    "id": "C4k4xnB5Gjw6"
   },
   "outputs": [],
   "source": [
    "Y_train.to_csv(\"Y_train.csv\", index=False)\n",
    "Y_test.to_csv(\"Y_test.csv\", index=False)\n",
    "y_arr_only_train.to_csv(\"arr_delay_only_y_train.csv\", index=False)\n",
    "y_arr_only_test.to_csv(\"arr_delay_only_y_test.csv\", index=False)"
   ]
  },
  {
   "cell_type": "markdown",
   "metadata": {
    "id": "X2okKFzTGs2f"
   },
   "source": [
    "Trying out PCA on the non-categorical columns. We don't see any meaningful improvement so we don't use PCA"
   ]
  },
  {
   "cell_type": "code",
   "execution_count": 45,
   "metadata": {
    "id": "X9Riy0SaGzX6"
   },
   "outputs": [],
   "source": [
    "from sklearn.decomposition import PCA"
   ]
  },
  {
   "cell_type": "code",
   "execution_count": null,
   "metadata": {
    "colab": {
     "base_uri": "https://localhost:8080/"
    },
    "id": "ieOcJaB3Grod",
    "outputId": "1bc62510-85a8-4973-eb3d-748e5b98f436"
   },
   "outputs": [],
   "source": [
    "for n_components in range(1, len(numeric_columns)):\n",
    "    pca = PCA(n_components=n_components)\n",
    "    cols = [f\"PCA{i}\" for i in range(1, n_components + 1)]\n",
    "\n",
    "    principal_components = pca.fit_transform(X_train[numeric_columns])\n",
    "    principal_components = pd.DataFrame(principal_components, columns=cols)\n",
    "\n",
    "    print(f\"{n_components} components:\")\n",
    "    for col in cols:\n",
    "        print(f\"{col} correlation: {calculate_pearson_score(principal_components, col, Y_train.sum(axis=1))}\")\n",
    "    print(\"\\n\")"
   ]
  },
  {
   "cell_type": "markdown",
   "metadata": {
    "id": "YqY8EsewG3Fg"
   },
   "source": [
    "One-hot encoding and splitting again"
   ]
  },
  {
   "cell_type": "code",
   "execution_count": null,
   "metadata": {
    "colab": {
     "base_uri": "https://localhost:8080/",
     "height": 255
    },
    "id": "GJq6EJ42GwDS",
    "outputId": "4aa0f23f-4284-4ced-ad7a-5ce3a164b6f4"
   },
   "outputs": [],
   "source": [
    "X_one_hot = pd.get_dummies(X_df, columns=[\"YEAR\", \"MONTH\", \"DAY\", 'AIRLINE', 'DEST', 'ORIGIN'])  # one-hot encode\n",
    "X_train, X_test, Y_train, Y_test, y_arr_only_train, y_arr_only_test = train_test_split(X_one_hot, Y_df, arr_only_y_df, random_state=42, test_size=0.25)\n",
    "X_one_hot.head()"
   ]
  },
  {
   "cell_type": "markdown",
   "metadata": {
    "id": "XJld37QmHBgu"
   },
   "source": [
    "Normalizing one-hot encoded data with MinMax"
   ]
  },
  {
   "cell_type": "code",
   "execution_count": null,
   "metadata": {
    "colab": {
     "base_uri": "https://localhost:8080/",
     "height": 255
    },
    "id": "kJ_QSHo3G8Pu",
    "outputId": "53c6e48c-58ba-4e90-fc6a-746b7f48fa68"
   },
   "outputs": [],
   "source": [
    "# Normalize using MinMax\n",
    "scaler = MinMaxScaler()\n",
    "X_train_norm = pd.DataFrame(scaler.fit_transform(X_train), columns=X_train.columns)\n",
    "X_test_norm = pd.DataFrame(scaler.transform(X_test), columns=X_test.columns)\n",
    "\n",
    "X_train_norm.head()"
   ]
  },
  {
   "cell_type": "markdown",
   "metadata": {
    "id": "x6evxCrPHFdx"
   },
   "source": [
    "Saving one-hot encoded X data to CSV"
   ]
  },
  {
   "cell_type": "code",
   "execution_count": 49,
   "metadata": {
    "id": "2w-8lcr_HEId"
   },
   "outputs": [],
   "source": [
    "X_train.to_csv(\"X_train_onehot.csv\", index=False)\n",
    "X_test.to_csv(\"X_test_onehot.csv\", index=False)"
   ]
  },
  {
   "cell_type": "markdown",
   "metadata": {
    "id": "fbRkLL5KHMk4"
   },
   "source": [
    "Visualizing the amount of flights that are delayed as a result of multiple reasons"
   ]
  },
  {
   "cell_type": "code",
   "execution_count": 50,
   "metadata": {
    "colab": {
     "base_uri": "https://localhost:8080/"
    },
    "id": "4GWJ-QIXHKCE",
    "outputId": "03b7c5a1-8e95-498b-9ee5-e2b782135d15"
   },
   "outputs": [
    {
     "name": "stdout",
     "output_type": "stream",
     "text": [
      "Ratio delayed for >1 reason: 0.4819283503597181\n"
     ]
    }
   ],
   "source": [
    "delay_for_multiple_reasons_mask = (Y_df > 0).sum(axis=1) > 1\n",
    "Y_num_rows_with_delay_for_multiple_reasons = delay_for_multiple_reasons_mask.sum()\n",
    "\n",
    "print(f\"Ratio delayed for >1 reason: {Y_num_rows_with_delay_for_multiple_reasons / len(Y_df)}\")"
   ]
  },
  {
   "cell_type": "code",
   "execution_count": null,
   "metadata": {
    "colab": {
     "base_uri": "https://localhost:8080/",
     "height": 617
    },
    "id": "eECO9pJyHPdo",
    "outputId": "510a60d9-6ead-4800-a51c-ba204304d559"
   },
   "outputs": [],
   "source": [
    "nonzero_counts = (Y_df > 0).sum(axis=1)\n",
    "\n",
    "# Calculate the percentage of each count\n",
    "percentage_counts = (nonzero_counts.value_counts(normalize=True) * 100).sort_index().reset_index()\n",
    "percentage_counts.columns = ['Number of Nonzero Delay Components', 'Percentage']\n",
    "\n",
    "fig = px.pie(percentage_counts, values='Percentage', names='Number of Nonzero Delay Components',\n",
    "             title='Percentage of Each Number of Nonzero Delay Components')\n",
    "fig.update_layout(title_x=0.5, width=800, height=600)\n",
    "fig.show()"
   ]
  },
  {
   "cell_type": "code",
   "execution_count": 52,
   "metadata": {
    "id": "49mYPvW0HY9J"
   },
   "outputs": [],
   "source": [
    "from sklearn.linear_model import LinearRegression\n",
    "from sklearn.tree import DecisionTreeRegressor\n",
    "from sklearn.metrics import mean_absolute_error, mean_squared_error\n",
    "from tensorflow.keras.models import Sequential\n",
    "from tensorflow.keras.layers import Dense\n",
    "from xgboost import XGBRegressor"
   ]
  },
  {
   "cell_type": "markdown",
   "metadata": {
    "id": "9DMc68AeHkEB"
   },
   "source": [
    "# For overall arrival delay"
   ]
  },
  {
   "cell_type": "markdown",
   "metadata": {
    "id": "3xgbWVkiHmaL"
   },
   "source": [
    "### Neural Network"
   ]
  },
  {
   "cell_type": "code",
   "execution_count": null,
   "metadata": {
    "colab": {
     "base_uri": "https://localhost:8080/"
    },
    "id": "E6rAiSBTHkol",
    "outputId": "4b26831d-7b11-4703-a98a-2f2247849ded"
   },
   "outputs": [],
   "source": [
    "# Define the neural network model\n",
    "model = Sequential([\n",
    "    Dense(64, activation='relu', input_shape=(X_train_scale.shape[1],)),\n",
    "    Dense(32, activation='relu'),\n",
    "    Dense(5)  # Number of output neurons should match the number of columns in Y\n",
    "])\n",
    "\n",
    "# Compile the model\n",
    "model.compile(optimizer='adam', loss='mse', metrics=['mae'])\n",
    "\n",
    "# Train the model\n",
    "history = model.fit(X_train_scale, Y_train, epochs=50, batch_size=32, validation_split=0.2)\n",
    "\n",
    "# Evaluate the model on test data\n",
    "loss, mae = model.evaluate(X_test_scale, Y_test)\n",
    "print(\"Test Mean Absolute Error:\", mae)\n",
    "\n",
    "# Make predictions\n",
    "Y_pred = model.predict(X_test_scale)\n",
    "\n",
    "# Calculate Mean Absolute Error for each column\n",
    "mae_columns = mean_absolute_error(Y_test, Y_pred, multioutput='raw_values')\n",
    "print(\"Mean Absolute Error for each column:\")\n",
    "print(mae_columns)"
   ]
  },
  {
   "cell_type": "markdown",
   "metadata": {
    "id": "EYGU7A9iPj-v"
   },
   "source": [
    "So we got a 10.023 MAE on the test dataset"
   ]
  },
  {
   "cell_type": "markdown",
   "metadata": {
    "id": "UhNYoXuAH3EM"
   },
   "source": [
    "### XGBoost Regressor"
   ]
  },
  {
   "cell_type": "code",
   "execution_count": 58,
   "metadata": {
    "colab": {
     "base_uri": "https://localhost:8080/"
    },
    "id": "UlIGbKPmH04d",
    "outputId": "33e8f9fe-9089-42a6-c1b2-ad6b82927ab9"
   },
   "outputs": [
    {
     "name": "stdout",
     "output_type": "stream",
     "text": [
      "Train Mean Absolute Error: 9.30460747034781\n",
      "Test Mean Absolute Error: 9.534464901988867\n",
      "Train Mean Squared Error: 328.46083047337834\n",
      "Test Mean Squared Error: 345.0273983555496\n"
     ]
    }
   ],
   "source": [
    "xgb_regressor = XGBRegressor(objective='reg:squarederror', random_state=42)\n",
    "xgb_regressor.fit(X_train_scale, Y_train)\n",
    "\n",
    "Y_test_pred = xgb_regressor.predict(X_test_scale)\n",
    "Y_train_pred = xgb_regressor.predict(X_train_scale)\n",
    "\n",
    "test_mae = mean_absolute_error(Y_test, Y_test_pred)\n",
    "test_mse = mean_squared_error(Y_test, Y_test_pred)\n",
    "\n",
    "train_mae = mean_absolute_error(Y_train, Y_train_pred)\n",
    "train_mse = mean_squared_error(Y_train, Y_train_pred)\n",
    "\n",
    "print(f\"Train Mean Absolute Error: {train_mae}\")\n",
    "print(f\"Test Mean Absolute Error: {test_mae}\")\n",
    "\n",
    "print(f\"Train Mean Squared Error: {train_mse}\")\n",
    "print(f\"Test Mean Squared Error: {test_mse}\")"
   ]
  },
  {
   "cell_type": "code",
   "execution_count": 59,
   "metadata": {
    "colab": {
     "base_uri": "https://localhost:8080/",
     "height": 472
    },
    "id": "4IIWW8OXIwIK",
    "outputId": "7caa5680-9b50-44f1-b583-1c0b24a3f45c"
   },
   "outputs": [
    {
     "data": {
      "image/png": "[encoded data removed]",
      "text/plain": [
       "<Figure size 640x480 with 1 Axes>"
      ]
     },
     "metadata": {},
     "output_type": "display_data"
    }
   ],
   "source": [
    "plt.scatter(Y_train, Y_train_pred)\n",
    "plt.xlabel('Actual Values')\n",
    "plt.ylabel('Predicted Values')\n",
    "plt.title('Actual vs Predicted Values')\n",
    "plt.show()"
   ]
  },
  {
   "cell_type": "code",
   "execution_count": 60,
   "metadata": {
    "colab": {
     "base_uri": "https://localhost:8080/",
     "height": 472
    },
    "id": "eICzWWzPIyE4",
    "outputId": "d1cdebcb-4479-4126-c118-a58aa72bbd74"
   },
   "outputs": [
    {
     "data": {
      "image/png": "[encoded data removed]",
      "text/plain": [
       "<Figure size 640x480 with 1 Axes>"
      ]
     },
     "metadata": {},
     "output_type": "display_data"
    }
   ],
   "source": [
    "plt.scatter(Y_test, Y_test_pred)\n",
    "plt.xlabel('Actual Values')\n",
    "plt.ylabel('Predicted Values')\n",
    "plt.title('Actual vs Predicted Values')\n",
    "plt.show()"
   ]
  },
  {
   "cell_type": "markdown",
   "metadata": {
    "id": "WTfQO8F2I6R7"
   },
   "source": [
    "# BUILDING LSTM DATA"
   ]
  },
  {
   "cell_type": "code",
   "execution_count": 61,
   "metadata": {
    "id": "AM2mnBgxI74Y"
   },
   "outputs": [],
   "source": [
    "X_train_label_lstm = X_train_scale.copy()\n",
    "X_test_label_lstm = X_test_scale.copy()\n",
    "\n",
    "X_lstm1 = pd.concat([X_train_label_lstm, Y_train], axis=1)\n",
    "X_lstm2 = pd.concat([X_test_label_lstm, Y_test], axis=1)\n",
    "\n",
    "combined_df_lstm = pd.concat([X_lstm1, X_lstm2])\n",
    "\n",
    "# Sort by date\n",
    "combined_df_lstm.sort_values([\"YEAR\", \"MONTH\", \"DAY\", \"CRS_DEP_TIME\", \"CRS_ARR_TIME\"], inplace=True)\n",
    "\n",
    "# Features (X_LSTM)\n",
    "X_LSTM = combined_df_lstm[[\"YEAR\", \"MONTH\", \"DAY\", 'AIRLINE', 'ORIGIN', 'DEST', 'CRS_DEP_TIME', 'CRS_ARR_TIME', 'DISTANCE', 'TAXI_IN', 'TAXI_OUT']]\n",
    "\n",
    "# Target variables (Y_LSTM)\n",
    "Y_LSTM = combined_df_lstm[['DELAY_DUE_CARRIER', 'DELAY_DUE_WEATHER', 'DELAY_DUE_SECURITY', 'DELAY_DUE_NAS', 'DELAY_DUE_LATE_AIRCRAFT']]\n",
    "X_train_lstm, X_test_lstm, y_train_lstm, y_test_lstm = train_test_split(X_LSTM, Y_LSTM, test_size=0.25, shuffle=False)"
   ]
  },
  {
   "cell_type": "markdown",
   "metadata": {
    "id": "DhPBNd4eJM3k"
   },
   "source": [
    "Measuring the longest and shortest list of flights per day to determine whether it makes sense to pad by day. We decided this would not make sense."
   ]
  },
  {
   "cell_type": "code",
   "execution_count": 62,
   "metadata": {
    "colab": {
     "base_uri": "https://localhost:8080/"
    },
    "id": "Vwdn0megJKld",
    "outputId": "51cef57a-d1cb-46a5-950a-1cbcb518894a"
   },
   "outputs": [
    {
     "name": "stdout",
     "output_type": "stream",
     "text": [
      "longest: 738 flights\n",
      "shortest: 10 flights\n"
     ]
    }
   ],
   "source": [
    "longest = 0\n",
    "shortest = float(\"inf\")\n",
    "for group in X_train_lstm.groupby([\"YEAR\", \"MONTH\", \"DAY\"]):\n",
    "  group = group[1]\n",
    "\n",
    "  if len(group) > longest:\n",
    "    longest = len(group)\n",
    "\n",
    "  if len(group) < shortest:\n",
    "    shortest = len(group)\n",
    "\n",
    "print(f\"longest: {longest} flights\")\n",
    "print(f\"shortest: {shortest} flights\")"
   ]
  },
  {
   "cell_type": "markdown",
   "metadata": {
    "id": "kujJ2DxhJY_n"
   },
   "source": [
    "Saving the datasets"
   ]
  },
  {
   "cell_type": "code",
   "execution_count": 63,
   "metadata": {
    "id": "unKXQz2hJVtX"
   },
   "outputs": [],
   "source": [
    "X_train_lstm.to_csv(\"X_train_lstm.csv\", index=False)\n",
    "X_test_lstm.to_csv(\"X_test_lstm.csv\", index=False)\n",
    "y_train_lstm.to_csv(\"Y_train_lstm.csv\", index=False)\n",
    "y_test_lstm.to_csv(\"Y_test_lstm.csv\", index=False)"
   ]
  },
  {
   "cell_type": "code",
   "execution_count": 66,
   "metadata": {
    "id": "kB9TyP-eJauo"
   },
   "outputs": [],
   "source": [
    "import tensorflow as tf\n",
    "import keras\n",
    "np.random.seed(42)\n",
    "tf.random.set_seed(42)\n",
    "keras.utils.set_random_seed(42)"
   ]
  },
  {
   "cell_type": "markdown",
   "metadata": {
    "id": "bf5pQ6h4JhHT"
   },
   "source": [
    "Training the LSTM architecture"
   ]
  },
  {
   "cell_type": "code",
   "execution_count": 68,
   "metadata": {
    "id": "2GB7HSFYP8DI"
   },
   "outputs": [],
   "source": [
    "X_train = pd.read_csv(\"X_train_lstm.csv\")\n",
    "X_test = pd.read_csv(\"X_test_lstm.csv\")\n",
    "\n",
    "Y_train = pd.read_csv(\"Y_train_lstm.csv\")\n",
    "Y_test = pd.read_csv(\"Y_test_lstm.csv\")"
   ]
  },
  {
   "cell_type": "code",
   "execution_count": null,
   "metadata": {
    "colab": {
     "base_uri": "https://localhost:8080/"
    },
    "id": "HWuNbmppJgZ7",
    "outputId": "a3991bd0-c3a3-4cd2-e29c-7ee1430e825a"
   },
   "outputs": [],
   "source": [
    "from tensorflow.keras.models import Sequential, Model\n",
    "from tensorflow.keras.layers import Input, LSTM, Dense, Bidirectional, Conv1D, MaxPooling1D, Flatten, Concatenate\n",
    "from tensorflow.keras.callbacks import ModelCheckpoint, EarlyStopping\n",
    "from tensorflow.keras.optimizers import Adam\n",
    "import tensorflow as tf\n",
    "import tensorflow.keras as keras\n",
    "# Defining callbacks\n",
    "checkpoint = ModelCheckpoint(\"models/lstm_model.keras\", monitor='val_loss', save_best_only=True, verbose=1)\n",
    "early_stopping = EarlyStopping(monitor='val_loss', patience=5, verbose=1)\n",
    "\n",
    "# Define LSTM model\n",
    "# Up to 2 layers of LSTM and number of hidden units were hand tuned to determine this as the optimum model\n",
    "lstm_model = Sequential([\n",
    "    Input(shape=(X_train.shape[1], 1)),\n",
    "    LSTM(units=64, activation='relu', recurrent_dropout=0.2),\n",
    "    Dense(5)\n",
    "])\n",
    "\n",
    "# Use MSE for loss because we want to emphasize the \"wrongest\" guesses the most. MAE is an interpretable metric\n",
    "lstm_model.compile(optimizer=Adam(learning_rate=1e-3), loss='mse', metrics=['mae'])\n",
    "\n",
    "# Train model w/ early stopping\n",
    "# Batch size is the average number of flights per day\n",
    "history = lstm_model.fit(X_train, Y_train, epochs=50, batch_size=265, validation_split=0.2, callbacks=[checkpoint, early_stopping])\n",
    "\n",
    "\n",
    "loss, mae = lstm_model.evaluate(X_test, Y_test)\n",
    "print(\"Test Mean Absolute Error:\", mae)\n",
    "\n",
    "Y_pred = lstm_model.predict(X_test)\n",
    "\n",
    "mae_columns = mean_absolute_error(Y_test, Y_pred, multioutput='raw_values')\n",
    "print(\"Mean Absolute Error for each column:\")\n",
    "print(mae_columns)"
   ]
  },
  {
   "cell_type": "markdown",
   "metadata": {
    "id": "Q8iTFCnaJrcc"
   },
   "source": [
    "Training the LSTM + CNN hybrid architecture"
   ]
  },
  {
   "cell_type": "code",
   "execution_count": null,
   "metadata": {
    "colab": {
     "base_uri": "https://localhost:8080/"
    },
    "id": "mMrI8b8WJzL_",
    "outputId": "42ed51bf-4ebc-4cdc-f54b-5b5adfd8ce7a"
   },
   "outputs": [],
   "source": [
    "checkpoint = ModelCheckpoint(\"../models/hybrid_model.keras\", monitor='val_loss', save_best_only=True, verbose=1)\n",
    "early_stopping = EarlyStopping(monitor='val_loss', patience=5, verbose=1)\n",
    "\n",
    "# Define input layer\n",
    "input_layer = Input(shape=(X_train.shape[1], 1))\n",
    "\n",
    "# CNN model\n",
    "conv_layer = Conv1D(filters=32, kernel_size=3, activation='relu')(input_layer)\n",
    "maxpool_layer = MaxPooling1D(pool_size=2)(conv_layer)\n",
    "flatten_layer = Flatten()(maxpool_layer)\n",
    "dense_cnn = Dense(32, activation='relu')(flatten_layer)\n",
    "\n",
    "# BiLSTM model\n",
    "lstm_layer = LSTM(64, activation='relu')(input_layer)\n",
    "# lstm_layer2 = LSTM(32, activation='relu', return_sequences=False)(lstm_layer)\n",
    "dense_lstm = Dense(32, activation='relu')(lstm_layer)\n",
    "\n",
    "# Concatenate CNN and BiLSTM outputs\n",
    "concatenated = Concatenate()([dense_cnn, dense_lstm])\n",
    "\n",
    "# Output layer\n",
    "output_layer = Dense(5)(concatenated)\n",
    "\n",
    "# Create the ensemble model\n",
    "hybrid_model = Model(inputs=input_layer, outputs=output_layer)\n",
    "\n",
    "hybrid_model.compile(optimizer='adam', loss='mse', metrics=['mae'])\n",
    "\n",
    "history = hybrid_model.fit(\n",
    "    X_train,\n",
    "    Y_train,\n",
    "    epochs=50,\n",
    "    batch_size=512,\n",
    "    validation_split=0.2,\n",
    "    callbacks=[checkpoint, early_stopping]\n",
    ")\n",
    "\n",
    "loss, mae = hybrid_model.evaluate(X_test, Y_test)\n",
    "print(\"Test Mean Absolute Error:\", mae)\n",
    "\n",
    "Y_pred = hybrid_model.predict(X_test)\n",
    "\n",
    "mae_columns = mean_absolute_error(Y_test, Y_pred, multioutput='raw_values')\n",
    "print(\"Mean Absolute Error for each column:\")\n",
    "print(mae_columns)"
   ]
  },
  {
   "cell_type": "markdown",
   "metadata": {
    "id": "N_xwlbs1RhMv"
   },
   "source": [
    "Loading LSTM model"
   ]
  },
  {
   "cell_type": "code",
   "execution_count": 75,
   "metadata": {
    "id": "bBF1E7g2Riw_"
   },
   "outputs": [],
   "source": [
    "lstm_model = keras.models.load_model(\"models/lstm_model.keras\")"
   ]
  },
  {
   "cell_type": "code",
   "execution_count": 76,
   "metadata": {
    "colab": {
     "base_uri": "https://localhost:8080/"
    },
    "id": "Qc0mmGHXRkcS",
    "outputId": "bda766be-bb22-49ca-9584-0a79147ec515"
   },
   "outputs": [
    {
     "name": "stdout",
     "output_type": "stream",
     "text": [
      "\u001b[1m3827/3827\u001b[0m \u001b[32m━━━━━━━━━━━━━━━━━━━━\u001b[0m\u001b[37m\u001b[0m \u001b[1m18s\u001b[0m 5ms/step\n"
     ]
    }
   ],
   "source": [
    "Y_pred = lstm_model.predict(X_test)\n",
    "Y_pred = pd.DataFrame(Y_pred, columns=Y_test.columns)"
   ]
  },
  {
   "cell_type": "markdown",
   "metadata": {
    "id": "lK2KEfefRmX3"
   },
   "source": [
    "MSE and MAE"
   ]
  },
  {
   "cell_type": "code",
   "execution_count": 77,
   "metadata": {
    "colab": {
     "base_uri": "https://localhost:8080/"
    },
    "id": "BCswjRVLRlSX",
    "outputId": "9ff75617-23b9-4d32-aec1-e04679324fc6"
   },
   "outputs": [
    {
     "data": {
      "text/plain": [
       "360.1238261719237"
      ]
     },
     "execution_count": 77,
     "metadata": {},
     "output_type": "execute_result"
    }
   ],
   "source": [
    "mean_squared_error(Y_test, Y_pred)"
   ]
  },
  {
   "cell_type": "code",
   "execution_count": 78,
   "metadata": {
    "colab": {
     "base_uri": "https://localhost:8080/"
    },
    "id": "gGrCw2u2Rnq8",
    "outputId": "b53897fa-bb6e-4106-85d8-882d74d652c5"
   },
   "outputs": [
    {
     "data": {
      "text/plain": [
       "9.930893883657196"
      ]
     },
     "execution_count": 78,
     "metadata": {},
     "output_type": "execute_result"
    }
   ],
   "source": [
    "mean_absolute_error(Y_test, Y_pred)  # these are in mins"
   ]
  },
  {
   "cell_type": "markdown",
   "metadata": {
    "id": "aQYn5jPSRtQ9"
   },
   "source": [
    "Standard deviation in each of the columns"
   ]
  },
  {
   "cell_type": "code",
   "execution_count": 79,
   "metadata": {
    "colab": {
     "base_uri": "https://localhost:8080/"
    },
    "id": "7MZngQpQRrn7",
    "outputId": "ffb1c4a2-3032-430b-edb6-500624b23527"
   },
   "outputs": [
    {
     "name": "stdout",
     "output_type": "stream",
     "text": [
      "DELAY_DUE_CARRIER\n",
      "25.567373882084624 6.442824363708496\n",
      "DELAY_DUE_WEATHER\n",
      "11.406046218761714 0.8012697696685791\n",
      "DELAY_DUE_SECURITY\n",
      "2.422932730882158 0.06321603059768677\n",
      "DELAY_DUE_NAS\n",
      "19.65953564135109 11.153653144836426\n",
      "DELAY_DUE_LATE_AIRCRAFT\n",
      "29.452996135810928 8.71923828125\n"
     ]
    }
   ],
   "source": [
    "for col in Y_pred.columns:\n",
    "    print(col)\n",
    "    print(Y_test[col].std(), Y_pred[col].std())"
   ]
  },
  {
   "cell_type": "markdown",
   "metadata": {
    "id": "mF2w0CChRw2G"
   },
   "source": [
    "Mean of the predictions we made"
   ]
  },
  {
   "cell_type": "code",
   "execution_count": 80,
   "metadata": {
    "colab": {
     "base_uri": "https://localhost:8080/",
     "height": 240
    },
    "id": "Qn44_ENJRvlE",
    "outputId": "ac0e9c00-577a-4b2e-d133-e5ba822b69a0"
   },
   "outputs": [
    {
     "data": {
      "text/html": [
       "<div>\n",
       "<style scoped>\n",
       "    .dataframe tbody tr th:only-of-type {\n",
       "        vertical-align: middle;\n",
       "    }\n",
       "\n",
       "    .dataframe tbody tr th {\n",
       "        vertical-align: top;\n",
       "    }\n",
       "\n",
       "    .dataframe thead th {\n",
       "        text-align: right;\n",
       "    }\n",
       "</style>\n",
       "<table border=\"1\" class=\"dataframe\">\n",
       "  <thead>\n",
       "    <tr style=\"text-align: right;\">\n",
       "      <th></th>\n",
       "      <th>0</th>\n",
       "    </tr>\n",
       "  </thead>\n",
       "  <tbody>\n",
       "    <tr>\n",
       "      <th>DELAY_DUE_CARRIER</th>\n",
       "      <td>15.637125</td>\n",
       "    </tr>\n",
       "    <tr>\n",
       "      <th>DELAY_DUE_WEATHER</th>\n",
       "      <td>1.739690</td>\n",
       "    </tr>\n",
       "    <tr>\n",
       "      <th>DELAY_DUE_SECURITY</th>\n",
       "      <td>0.084543</td>\n",
       "    </tr>\n",
       "    <tr>\n",
       "      <th>DELAY_DUE_NAS</th>\n",
       "      <td>12.603748</td>\n",
       "    </tr>\n",
       "    <tr>\n",
       "      <th>DELAY_DUE_LATE_AIRCRAFT</th>\n",
       "      <td>18.176521</td>\n",
       "    </tr>\n",
       "  </tbody>\n",
       "</table>\n",
       "</div><br><label><b>dtype:</b> float32</label>"
      ],
      "text/plain": [
       "DELAY_DUE_CARRIER          15.637125\n",
       "DELAY_DUE_WEATHER           1.739690\n",
       "DELAY_DUE_SECURITY          0.084543\n",
       "DELAY_DUE_NAS              12.603748\n",
       "DELAY_DUE_LATE_AIRCRAFT    18.176521\n",
       "dtype: float32"
      ]
     },
     "execution_count": 80,
     "metadata": {},
     "output_type": "execute_result"
    }
   ],
   "source": [
    "Y_pred.mean()"
   ]
  },
  {
   "cell_type": "markdown",
   "metadata": {
    "id": "CKQEbDuqR0wx"
   },
   "source": [
    "### Plotting box plots of predicted test labels and true labels"
   ]
  },
  {
   "cell_type": "code",
   "execution_count": 82,
   "metadata": {
    "colab": {
     "base_uri": "https://localhost:8080/",
     "height": 564
    },
    "id": "OQtF2SyeRzOz",
    "outputId": "20e21713-b1d9-48d1-bb55-ddebee277fa5"
   },
   "outputs": [
    {
     "data": {
      "image/png": "[encoded data removed]",
      "text/plain": [
       "<Figure size 1100x600 with 1 Axes>"
      ]
     },
     "metadata": {},
     "output_type": "display_data"
    }
   ],
   "source": [
    "import seaborn as sns\n",
    "plt.figure(figsize=(11, 6))\n",
    "plt.grid()\n",
    "sns.boxplot(Y_pred.melt(), x=\"variable\", y=\"value\", color=\"orange\")\n",
    "plt.title('LSTM Predicted Test Labels')\n",
    "plt.ylabel(\"Delay (mins)\")\n",
    "plt.show()"
   ]
  },
  {
   "cell_type": "code",
   "execution_count": 83,
   "metadata": {
    "colab": {
     "base_uri": "https://localhost:8080/",
     "height": 564
    },
    "id": "pYljUkOpR2r4",
    "outputId": "3ec21392-f13b-43fe-939e-84bee1c5a686"
   },
   "outputs": [
    {
     "data": {
      "image/png": "[encoded data removed]",
      "text/plain": [
       "<Figure size 1100x600 with 1 Axes>"
      ]
     },
     "metadata": {},
     "output_type": "display_data"
    }
   ],
   "source": [
    "plt.figure(figsize=(11, 6))\n",
    "plt.grid()\n",
    "sns.boxplot(Y_test.melt(), x=\"variable\", y=\"value\", color=\"blue\")\n",
    "plt.title('LSTM True Test Labels')\n",
    "plt.ylabel(\"Delay (mins)\")\n",
    "plt.show()"
   ]
  },
  {
   "cell_type": "code",
   "execution_count": 84,
   "metadata": {
    "id": "WkFsmIbzR72R"
   },
   "outputs": [],
   "source": [
    "hybrid_model = keras.models.load_model(\"../models/hybrid_model.keras\")"
   ]
  },
  {
   "cell_type": "code",
   "execution_count": 85,
   "metadata": {
    "colab": {
     "base_uri": "https://localhost:8080/"
    },
    "id": "Ox51ex57SBbl",
    "outputId": "88db718c-7565-44b4-9225-9db4b9545461"
   },
   "outputs": [
    {
     "name": "stdout",
     "output_type": "stream",
     "text": [
      "Requirement already satisfied: pydot in /usr/local/lib/python3.10/dist-packages (3.0.2)\n",
      "Requirement already satisfied: pyparsing>=3.0.9 in /usr/local/lib/python3.10/dist-packages (from pydot) (3.2.0)\n"
     ]
    }
   ],
   "source": [
    "!pip install pydot"
   ]
  },
  {
   "cell_type": "code",
   "execution_count": null,
   "metadata": {
    "id": "ZF2K0vW_SDpj"
   },
   "outputs": [],
   "source": [
    "Y_pred = hybrid_model.predict(X_test)"
   ]
  },
  {
   "cell_type": "code",
   "execution_count": null,
   "metadata": {
    "id": "5FO1yb1HSEqM"
   },
   "outputs": [],
   "source": [
    "mean_squared_error(Y_test, Y_pred)"
   ]
  },
  {
   "cell_type": "markdown",
   "metadata": {},
   "source": [
    "#### Flight Rescheduling"
   ]
  },
  {
   "cell_type": "markdown",
   "metadata": {},
   "source": [
    "##### Genetic Algorithm Overview ###\n",
    "\n",
    "A Genetic Algorithm (GA) is a search heuristic that mimics the process of natural selection. This heuristic is routinely used to generate useful solutions to optimization and search problems. The algorithm reflects the process of natural evolution, where the fittest individuals are selected for reproduction in order to produce offspring of the next generation.\n",
    "\n",
    "Key Concepts\n",
    "\n",
    "*Population:* A set of potential solutions to the problem.\n",
    "\n",
    "*Chromosomes:* A representation of a solution. Typically, this is a string of bits, but other representations are possible.\n",
    "\n",
    "*Genes:* Parts of a chromosome, representing a specific trait of the solution.\n",
    "\n",
    "*Fitness Function:* A function that evaluates how close a given solution is to the optimum solution of the problem.\n",
    "\n",
    "*Selection:* The process of choosing the fittest individuals from the population to create offspring.\n",
    "\n",
    "*Crossover (Recombination):* A genetic operator used to combine the genetic information of two parents to generate new offspring.\n",
    "\n",
    "*Mutation:* A genetic operator used to maintain genetic diversity within the population by randomly tweaking the genes of individuals.\n"
   ]
  },
  {
   "cell_type": "code",
   "execution_count": 7,
   "metadata": {},
   "outputs": [],
   "source": [
    "POPULATION_SIZE = 50  \n",
    "NUM_GENERATIONS = 100 \n",
    "MUTATION_RATE = 0.1  \n",
    "TOURNAMENT_SIZE = 5  "
   ]
  },
  {
   "cell_type": "code",
   "execution_count": 20,
   "metadata": {},
   "outputs": [],
   "source": [
    "data_day = data[data['FL_DATE'] == '2023-08-31'].copy().reset_index(drop=True)\n",
    "\n",
    "def calculate_total_delay(crs_dep_times):\n",
    "    data_day['CRS_DEP_TIME'] = crs_dep_times\n",
    "    return data_day['DEP_DELAY'].sum()"
   ]
  },
  {
   "cell_type": "code",
   "execution_count": 21,
   "metadata": {},
   "outputs": [],
   "source": [
    "def initialize_population():\n",
    "    population = []\n",
    "    for _ in range(POPULATION_SIZE):\n",
    "        individual = data_day['CRS_DEP_TIME'].values + np.random.randint(-30, 30, size=len(data_day))\n",
    "        individual = np.clip(individual, 0, 2359) \n",
    "        population.append(individual)\n",
    "    return population\n",
    "\n",
    "def tournament_selection(population, scores):\n",
    "    tournament = random.sample(list(zip(population, scores)), TOURNAMENT_SIZE)\n",
    "    tournament.sort(key=lambda x: x[1])\n",
    "    return tournament[0][0]  \n",
    "\n",
    "def crossover(parent1, parent2):\n",
    "    crossover_point = random.randint(1, len(parent1) - 1)\n",
    "    child1 = np.concatenate((parent1[:crossover_point], parent2[crossover_point:]))\n",
    "    child2 = np.concatenate((parent2[:crossover_point], parent1[crossover_point:]))\n",
    "    return child1, child2\n",
    "\n",
    "def mutate(individual):\n",
    "    for i in range(len(individual)):\n",
    "        if random.random() < MUTATION_RATE:\n",
    "            individual[i] += np.random.randint(-63, 63)  \n",
    "            individual[i] = np.clip(individual[i], 0, 2359)  \n",
    "    return individual"
   ]
  },
  {
   "cell_type": "code",
   "execution_count": 22,
   "metadata": {},
   "outputs": [
    {
     "name": "stdout",
     "output_type": "stream",
     "text": [
      "Generation 1, Best Score (Total Delay): 18974.0\n",
      "Generation 2, Best Score (Total Delay): 18974.0\n",
      "Generation 3, Best Score (Total Delay): 18974.0\n",
      "Generation 4, Best Score (Total Delay): 18974.0\n",
      "Generation 5, Best Score (Total Delay): 18974.0\n",
      "Generation 6, Best Score (Total Delay): 18974.0\n",
      "Generation 7, Best Score (Total Delay): 18974.0\n",
      "Generation 8, Best Score (Total Delay): 18974.0\n",
      "Generation 9, Best Score (Total Delay): 18974.0\n",
      "Generation 10, Best Score (Total Delay): 18974.0\n",
      "Generation 11, Best Score (Total Delay): 18974.0\n",
      "Generation 12, Best Score (Total Delay): 18974.0\n",
      "Generation 13, Best Score (Total Delay): 18974.0\n",
      "Generation 14, Best Score (Total Delay): 18974.0\n",
      "Generation 15, Best Score (Total Delay): 18974.0\n",
      "Generation 16, Best Score (Total Delay): 18974.0\n",
      "Generation 17, Best Score (Total Delay): 18974.0\n",
      "Generation 18, Best Score (Total Delay): 18974.0\n",
      "Generation 19, Best Score (Total Delay): 18974.0\n",
      "Generation 20, Best Score (Total Delay): 18974.0\n",
      "Generation 21, Best Score (Total Delay): 18974.0\n",
      "Generation 22, Best Score (Total Delay): 18974.0\n",
      "Generation 23, Best Score (Total Delay): 18974.0\n",
      "Generation 24, Best Score (Total Delay): 18974.0\n",
      "Generation 25, Best Score (Total Delay): 18974.0\n",
      "Generation 26, Best Score (Total Delay): 18974.0\n",
      "Generation 27, Best Score (Total Delay): 18974.0\n",
      "Generation 28, Best Score (Total Delay): 18974.0\n",
      "Generation 29, Best Score (Total Delay): 18974.0\n",
      "Generation 30, Best Score (Total Delay): 18974.0\n",
      "Generation 31, Best Score (Total Delay): 18974.0\n",
      "Generation 32, Best Score (Total Delay): 18974.0\n",
      "Generation 33, Best Score (Total Delay): 18974.0\n",
      "Generation 34, Best Score (Total Delay): 18974.0\n",
      "Generation 35, Best Score (Total Delay): 18974.0\n",
      "Generation 36, Best Score (Total Delay): 18974.0\n",
      "Generation 37, Best Score (Total Delay): 18974.0\n",
      "Generation 38, Best Score (Total Delay): 18974.0\n",
      "Generation 39, Best Score (Total Delay): 18974.0\n",
      "Generation 40, Best Score (Total Delay): 18974.0\n",
      "Generation 41, Best Score (Total Delay): 18974.0\n",
      "Generation 42, Best Score (Total Delay): 18974.0\n",
      "Generation 43, Best Score (Total Delay): 18974.0\n",
      "Generation 44, Best Score (Total Delay): 18974.0\n",
      "Generation 45, Best Score (Total Delay): 18974.0\n",
      "Generation 46, Best Score (Total Delay): 18974.0\n",
      "Generation 47, Best Score (Total Delay): 18974.0\n",
      "Generation 48, Best Score (Total Delay): 18974.0\n",
      "Generation 49, Best Score (Total Delay): 18974.0\n",
      "Generation 50, Best Score (Total Delay): 18974.0\n",
      "Generation 51, Best Score (Total Delay): 18974.0\n",
      "Generation 52, Best Score (Total Delay): 18974.0\n",
      "Generation 53, Best Score (Total Delay): 18974.0\n",
      "Generation 54, Best Score (Total Delay): 18974.0\n",
      "Generation 55, Best Score (Total Delay): 18974.0\n",
      "Generation 56, Best Score (Total Delay): 18974.0\n",
      "Generation 57, Best Score (Total Delay): 18974.0\n",
      "Generation 58, Best Score (Total Delay): 18974.0\n",
      "Generation 59, Best Score (Total Delay): 18974.0\n",
      "Generation 60, Best Score (Total Delay): 18974.0\n",
      "Generation 61, Best Score (Total Delay): 18974.0\n",
      "Generation 62, Best Score (Total Delay): 18974.0\n",
      "Generation 63, Best Score (Total Delay): 18974.0\n",
      "Generation 64, Best Score (Total Delay): 18974.0\n",
      "Generation 65, Best Score (Total Delay): 18974.0\n",
      "Generation 66, Best Score (Total Delay): 18974.0\n",
      "Generation 67, Best Score (Total Delay): 18974.0\n",
      "Generation 68, Best Score (Total Delay): 18974.0\n",
      "Generation 69, Best Score (Total Delay): 18974.0\n",
      "Generation 70, Best Score (Total Delay): 18974.0\n",
      "Generation 71, Best Score (Total Delay): 18974.0\n",
      "Generation 72, Best Score (Total Delay): 18974.0\n",
      "Generation 73, Best Score (Total Delay): 18974.0\n",
      "Generation 74, Best Score (Total Delay): 18974.0\n",
      "Generation 75, Best Score (Total Delay): 18974.0\n",
      "Generation 76, Best Score (Total Delay): 18974.0\n",
      "Generation 77, Best Score (Total Delay): 18974.0\n",
      "Generation 78, Best Score (Total Delay): 18974.0\n",
      "Generation 79, Best Score (Total Delay): 18974.0\n",
      "Generation 80, Best Score (Total Delay): 18974.0\n",
      "Generation 81, Best Score (Total Delay): 18974.0\n",
      "Generation 82, Best Score (Total Delay): 18974.0\n",
      "Generation 83, Best Score (Total Delay): 18974.0\n",
      "Generation 84, Best Score (Total Delay): 18974.0\n",
      "Generation 85, Best Score (Total Delay): 18974.0\n",
      "Generation 86, Best Score (Total Delay): 18974.0\n",
      "Generation 87, Best Score (Total Delay): 18974.0\n",
      "Generation 88, Best Score (Total Delay): 18974.0\n",
      "Generation 89, Best Score (Total Delay): 18974.0\n",
      "Generation 90, Best Score (Total Delay): 18974.0\n",
      "Generation 91, Best Score (Total Delay): 18974.0\n",
      "Generation 92, Best Score (Total Delay): 18974.0\n",
      "Generation 93, Best Score (Total Delay): 18974.0\n",
      "Generation 94, Best Score (Total Delay): 18974.0\n",
      "Generation 95, Best Score (Total Delay): 18974.0\n",
      "Generation 96, Best Score (Total Delay): 18974.0\n",
      "Generation 97, Best Score (Total Delay): 18974.0\n",
      "Generation 98, Best Score (Total Delay): 18974.0\n",
      "Generation 99, Best Score (Total Delay): 18974.0\n",
      "Generation 100, Best Score (Total Delay): 18974.0\n"
     ]
    }
   ],
   "source": [
    "def genetic_algorithm():\n",
    "    population = initialize_population()\n",
    "    for generation in range(NUM_GENERATIONS):\n",
    "        scores = [calculate_total_delay(individual) for individual in population]\n",
    "        next_generation = []\n",
    "        for _ in range(POPULATION_SIZE // 2): \n",
    "            parent1 = tournament_selection(population, scores)\n",
    "            parent2 = tournament_selection(population, scores)\n",
    "            child1, child2 = crossover(parent1, parent2)\n",
    "            next_generation.append(mutate(child1))\n",
    "            next_generation.append(mutate(child2))\n",
    "\n",
    "        population = next_generation\n",
    "        best_score = min(scores)\n",
    "        print(f\"Generation {generation + 1}, Best Score (Total Delay): {best_score}\")\n",
    "    \n",
    "    final_scores = [calculate_total_delay(individual) for individual in population]\n",
    "    best_individual = population[np.argmin(final_scores)]\n",
    "    best_score = min(final_scores)\n",
    "    return best_individual, best_score\n",
    "\n",
    "best_schedule, best_delay = genetic_algorithm()"
   ]
  },
  {
   "cell_type": "code",
   "execution_count": 23,
   "metadata": {},
   "outputs": [],
   "source": [
    "def adjust_time_format(time_array):\n",
    "    adjusted_times = []\n",
    "    for time in time_array:\n",
    "        hh = time // 100\n",
    "        mm = time % 100\n",
    "        if mm > 59:\n",
    "            hh += 1\n",
    "            mm -= 60\n",
    "        adjusted_times.append(hh * 100 + mm)\n",
    "    return np.array(adjusted_times)\n",
    "\n",
    "best_schedule = adjust_time_format(best_schedule)\n",
    "# print(best_schedule)"
   ]
  },
  {
   "cell_type": "code",
   "execution_count": 24,
   "metadata": {},
   "outputs": [
    {
     "data": {
      "text/html": [
       "<div>\n",
       "<style scoped>\n",
       "    .dataframe tbody tr th:only-of-type {\n",
       "        vertical-align: middle;\n",
       "    }\n",
       "\n",
       "    .dataframe tbody tr th {\n",
       "        vertical-align: top;\n",
       "    }\n",
       "\n",
       "    .dataframe thead th {\n",
       "        text-align: right;\n",
       "    }\n",
       "</style>\n",
       "<table border=\"1\" class=\"dataframe\">\n",
       "  <thead>\n",
       "    <tr style=\"text-align: right;\">\n",
       "      <th></th>\n",
       "      <th>FL_DATE</th>\n",
       "      <th>AIRLINE</th>\n",
       "      <th>FL_NUMBER</th>\n",
       "      <th>ORIGIN</th>\n",
       "      <th>DEST</th>\n",
       "      <th>CRS_DEP_TIME</th>\n",
       "      <th>Optimized_CRS_DEP_TIME</th>\n",
       "    </tr>\n",
       "  </thead>\n",
       "  <tbody>\n",
       "    <tr>\n",
       "      <th>0</th>\n",
       "      <td>2023-08-31</td>\n",
       "      <td>Frontier Airlines Inc.</td>\n",
       "      <td>2479</td>\n",
       "      <td>IAH</td>\n",
       "      <td>PHX</td>\n",
       "      <td>1517</td>\n",
       "      <td>1639</td>\n",
       "    </tr>\n",
       "    <tr>\n",
       "      <th>1</th>\n",
       "      <td>2023-08-31</td>\n",
       "      <td>Republic Airline</td>\n",
       "      <td>5834</td>\n",
       "      <td>LGA</td>\n",
       "      <td>MSN</td>\n",
       "      <td>1993</td>\n",
       "      <td>1951</td>\n",
       "    </tr>\n",
       "    <tr>\n",
       "      <th>2</th>\n",
       "      <td>2023-08-31</td>\n",
       "      <td>Southwest Airlines Co.</td>\n",
       "      <td>3188</td>\n",
       "      <td>DEN</td>\n",
       "      <td>AUS</td>\n",
       "      <td>1078</td>\n",
       "      <td>1130</td>\n",
       "    </tr>\n",
       "    <tr>\n",
       "      <th>3</th>\n",
       "      <td>2023-08-31</td>\n",
       "      <td>Delta Air Lines Inc.</td>\n",
       "      <td>1850</td>\n",
       "      <td>CLT</td>\n",
       "      <td>ATL</td>\n",
       "      <td>922</td>\n",
       "      <td>926</td>\n",
       "    </tr>\n",
       "    <tr>\n",
       "      <th>4</th>\n",
       "      <td>2023-08-31</td>\n",
       "      <td>Delta Air Lines Inc.</td>\n",
       "      <td>531</td>\n",
       "      <td>LAX</td>\n",
       "      <td>DTW</td>\n",
       "      <td>2359</td>\n",
       "      <td>2311</td>\n",
       "    </tr>\n",
       "  </tbody>\n",
       "</table>\n",
       "</div>"
      ],
      "text/plain": [
       "     FL_DATE                 AIRLINE  FL_NUMBER ORIGIN DEST  CRS_DEP_TIME  \\\n",
       "0 2023-08-31  Frontier Airlines Inc.       2479    IAH  PHX          1517   \n",
       "1 2023-08-31        Republic Airline       5834    LGA  MSN          1993   \n",
       "2 2023-08-31  Southwest Airlines Co.       3188    DEN  AUS          1078   \n",
       "3 2023-08-31    Delta Air Lines Inc.       1850    CLT  ATL           922   \n",
       "4 2023-08-31    Delta Air Lines Inc.        531    LAX  DTW          2359   \n",
       "\n",
       "   Optimized_CRS_DEP_TIME  \n",
       "0                    1639  \n",
       "1                    1951  \n",
       "2                    1130  \n",
       "3                     926  \n",
       "4                    2311  "
      ]
     },
     "execution_count": 24,
     "metadata": {},
     "output_type": "execute_result"
    }
   ],
   "source": [
    "best_schedule_df = data_day[['FL_DATE','AIRLINE', 'FL_NUMBER', 'ORIGIN', 'DEST','CRS_DEP_TIME']].copy()\n",
    "best_schedule_df['Optimized_CRS_DEP_TIME'] = best_schedule\n",
    "best_schedule_df.head()"
   ]
  }
 ],
 "metadata": {
  "colab": {
   "provenance": []
  },
  "kernelspec": {
   "display_name": "Python 3 (ipykernel)",
   "language": "python",
   "name": "python3"
  },
  "language_info": {
   "codemirror_mode": {
    "name": "ipython",
    "version": 3
   },
   "file_extension": ".py",
   "mimetype": "text/x-python",
   "name": "python",
   "nbconvert_exporter": "python",
   "pygments_lexer": "ipython3",
   "version": "3.11.3"
  }
 },
 "nbformat": 4,
 "nbformat_minor": 1
}
